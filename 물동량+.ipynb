{
  "nbformat": 4,
  "nbformat_minor": 0,
  "metadata": {
    "colab": {
      "provenance": [],
      "gpuType": "T4"
    },
    "kernelspec": {
      "name": "python3",
      "display_name": "Python 3"
    },
    "language_info": {
      "name": "python"
    },
    "accelerator": "GPU"
  },
  "cells": [
    {
      "cell_type": "code",
      "execution_count": 15,
      "metadata": {
        "id": "7f8pyTz25NIj"
      },
      "outputs": [],
      "source": [
        "import numpy as np\n",
        "import pandas as pd\n",
        "import pandas_datareader.data as pdr\n",
        "import matplotlib.pyplot as plt\n",
        "import datetime\n",
        "import torch\n",
        "import torch.nn as nn\n",
        "from torch.autograd import Variable\n",
        "import torch.optim as optim\n",
        "from torch.utils.data import Dataset, DataLoader\n",
        "from sklearn.preprocessing import StandardScaler, MinMaxScaler"
      ]
    },
    {
      "cell_type": "code",
      "source": [
        "from google.colab import drive\n",
        "from google.colab import files\n",
        "\n",
        "# 구글 드라이브 마운트\n",
        "drive.mount('/content/drive')\n",
        "\n",
        "# 로컬 파일 업로드\n",
        "uploaded = files.upload()\n",
        "\n",
        "# 업로드된 파일 이동\n",
        "for filename in uploaded.keys():\n",
        "    # 업로드된 파일을 구글 드라이브의 원하는 경로로 이동\n",
        "    !mv \"{filename}\" \"/content/drive/MyDrive/{filename}\""
      ],
      "metadata": {
        "colab": {
          "base_uri": "https://localhost:8080/",
          "height": 90
        },
        "id": "5EZkYc135nYs",
        "outputId": "b7258ece-0bab-4c60-baf0-021993714fbd"
      },
      "execution_count": 16,
      "outputs": [
        {
          "output_type": "stream",
          "name": "stdout",
          "text": [
            "Drive already mounted at /content/drive; to attempt to forcibly remount, call drive.mount(\"/content/drive\", force_remount=True).\n"
          ]
        },
        {
          "output_type": "display_data",
          "data": {
            "text/plain": [
              "<IPython.core.display.HTML object>"
            ],
            "text/html": [
              "\n",
              "     <input type=\"file\" id=\"files-f6970fd8-c5ee-4360-bc8b-836dd7a9917d\" name=\"files[]\" multiple disabled\n",
              "        style=\"border:none\" />\n",
              "     <output id=\"result-f6970fd8-c5ee-4360-bc8b-836dd7a9917d\">\n",
              "      Upload widget is only available when the cell has been executed in the\n",
              "      current browser session. Please rerun this cell to enable.\n",
              "      </output>\n",
              "      <script>// Copyright 2017 Google LLC\n",
              "//\n",
              "// Licensed under the Apache License, Version 2.0 (the \"License\");\n",
              "// you may not use this file except in compliance with the License.\n",
              "// You may obtain a copy of the License at\n",
              "//\n",
              "//      http://www.apache.org/licenses/LICENSE-2.0\n",
              "//\n",
              "// Unless required by applicable law or agreed to in writing, software\n",
              "// distributed under the License is distributed on an \"AS IS\" BASIS,\n",
              "// WITHOUT WARRANTIES OR CONDITIONS OF ANY KIND, either express or implied.\n",
              "// See the License for the specific language governing permissions and\n",
              "// limitations under the License.\n",
              "\n",
              "/**\n",
              " * @fileoverview Helpers for google.colab Python module.\n",
              " */\n",
              "(function(scope) {\n",
              "function span(text, styleAttributes = {}) {\n",
              "  const element = document.createElement('span');\n",
              "  element.textContent = text;\n",
              "  for (const key of Object.keys(styleAttributes)) {\n",
              "    element.style[key] = styleAttributes[key];\n",
              "  }\n",
              "  return element;\n",
              "}\n",
              "\n",
              "// Max number of bytes which will be uploaded at a time.\n",
              "const MAX_PAYLOAD_SIZE = 100 * 1024;\n",
              "\n",
              "function _uploadFiles(inputId, outputId) {\n",
              "  const steps = uploadFilesStep(inputId, outputId);\n",
              "  const outputElement = document.getElementById(outputId);\n",
              "  // Cache steps on the outputElement to make it available for the next call\n",
              "  // to uploadFilesContinue from Python.\n",
              "  outputElement.steps = steps;\n",
              "\n",
              "  return _uploadFilesContinue(outputId);\n",
              "}\n",
              "\n",
              "// This is roughly an async generator (not supported in the browser yet),\n",
              "// where there are multiple asynchronous steps and the Python side is going\n",
              "// to poll for completion of each step.\n",
              "// This uses a Promise to block the python side on completion of each step,\n",
              "// then passes the result of the previous step as the input to the next step.\n",
              "function _uploadFilesContinue(outputId) {\n",
              "  const outputElement = document.getElementById(outputId);\n",
              "  const steps = outputElement.steps;\n",
              "\n",
              "  const next = steps.next(outputElement.lastPromiseValue);\n",
              "  return Promise.resolve(next.value.promise).then((value) => {\n",
              "    // Cache the last promise value to make it available to the next\n",
              "    // step of the generator.\n",
              "    outputElement.lastPromiseValue = value;\n",
              "    return next.value.response;\n",
              "  });\n",
              "}\n",
              "\n",
              "/**\n",
              " * Generator function which is called between each async step of the upload\n",
              " * process.\n",
              " * @param {string} inputId Element ID of the input file picker element.\n",
              " * @param {string} outputId Element ID of the output display.\n",
              " * @return {!Iterable<!Object>} Iterable of next steps.\n",
              " */\n",
              "function* uploadFilesStep(inputId, outputId) {\n",
              "  const inputElement = document.getElementById(inputId);\n",
              "  inputElement.disabled = false;\n",
              "\n",
              "  const outputElement = document.getElementById(outputId);\n",
              "  outputElement.innerHTML = '';\n",
              "\n",
              "  const pickedPromise = new Promise((resolve) => {\n",
              "    inputElement.addEventListener('change', (e) => {\n",
              "      resolve(e.target.files);\n",
              "    });\n",
              "  });\n",
              "\n",
              "  const cancel = document.createElement('button');\n",
              "  inputElement.parentElement.appendChild(cancel);\n",
              "  cancel.textContent = 'Cancel upload';\n",
              "  const cancelPromise = new Promise((resolve) => {\n",
              "    cancel.onclick = () => {\n",
              "      resolve(null);\n",
              "    };\n",
              "  });\n",
              "\n",
              "  // Wait for the user to pick the files.\n",
              "  const files = yield {\n",
              "    promise: Promise.race([pickedPromise, cancelPromise]),\n",
              "    response: {\n",
              "      action: 'starting',\n",
              "    }\n",
              "  };\n",
              "\n",
              "  cancel.remove();\n",
              "\n",
              "  // Disable the input element since further picks are not allowed.\n",
              "  inputElement.disabled = true;\n",
              "\n",
              "  if (!files) {\n",
              "    return {\n",
              "      response: {\n",
              "        action: 'complete',\n",
              "      }\n",
              "    };\n",
              "  }\n",
              "\n",
              "  for (const file of files) {\n",
              "    const li = document.createElement('li');\n",
              "    li.append(span(file.name, {fontWeight: 'bold'}));\n",
              "    li.append(span(\n",
              "        `(${file.type || 'n/a'}) - ${file.size} bytes, ` +\n",
              "        `last modified: ${\n",
              "            file.lastModifiedDate ? file.lastModifiedDate.toLocaleDateString() :\n",
              "                                    'n/a'} - `));\n",
              "    const percent = span('0% done');\n",
              "    li.appendChild(percent);\n",
              "\n",
              "    outputElement.appendChild(li);\n",
              "\n",
              "    const fileDataPromise = new Promise((resolve) => {\n",
              "      const reader = new FileReader();\n",
              "      reader.onload = (e) => {\n",
              "        resolve(e.target.result);\n",
              "      };\n",
              "      reader.readAsArrayBuffer(file);\n",
              "    });\n",
              "    // Wait for the data to be ready.\n",
              "    let fileData = yield {\n",
              "      promise: fileDataPromise,\n",
              "      response: {\n",
              "        action: 'continue',\n",
              "      }\n",
              "    };\n",
              "\n",
              "    // Use a chunked sending to avoid message size limits. See b/62115660.\n",
              "    let position = 0;\n",
              "    do {\n",
              "      const length = Math.min(fileData.byteLength - position, MAX_PAYLOAD_SIZE);\n",
              "      const chunk = new Uint8Array(fileData, position, length);\n",
              "      position += length;\n",
              "\n",
              "      const base64 = btoa(String.fromCharCode.apply(null, chunk));\n",
              "      yield {\n",
              "        response: {\n",
              "          action: 'append',\n",
              "          file: file.name,\n",
              "          data: base64,\n",
              "        },\n",
              "      };\n",
              "\n",
              "      let percentDone = fileData.byteLength === 0 ?\n",
              "          100 :\n",
              "          Math.round((position / fileData.byteLength) * 100);\n",
              "      percent.textContent = `${percentDone}% done`;\n",
              "\n",
              "    } while (position < fileData.byteLength);\n",
              "  }\n",
              "\n",
              "  // All done.\n",
              "  yield {\n",
              "    response: {\n",
              "      action: 'complete',\n",
              "    }\n",
              "  };\n",
              "}\n",
              "\n",
              "scope.google = scope.google || {};\n",
              "scope.google.colab = scope.google.colab || {};\n",
              "scope.google.colab._files = {\n",
              "  _uploadFiles,\n",
              "  _uploadFilesContinue,\n",
              "};\n",
              "})(self);\n",
              "</script> "
            ]
          },
          "metadata": {}
        },
        {
          "output_type": "stream",
          "name": "stdout",
          "text": [
            "Saving bs.csv to bs.csv\n"
          ]
        }
      ]
    },
    {
      "cell_type": "code",
      "source": [
        "# Data load\n",
        "df = pd.read_csv('/content/drive/MyDrive/bs_1.csv', encoding='cp949')\n",
        "x = df.iloc[:,0:-1]\n",
        "y = df.iloc[:,-1:]"
      ],
      "metadata": {
        "id": "TjbzQmsE55Co"
      },
      "execution_count": 17,
      "outputs": []
    },
    {
      "cell_type": "code",
      "source": [
        "# Training/Test ratio = 7:3\n",
        "Train_ratio = 0.7\n",
        "Test_ratio = 0.3\n",
        "\n",
        "# Data Division\n",
        "train_x = x.iloc[0:int(len(df)*Train_ratio),:]\n",
        "train_y = y.iloc[0:int(len(df)*Train_ratio),:]\n",
        "test_x = x.iloc[int(len(df)*Train_ratio):,:]\n",
        "test_y = y.iloc[int(len(df)*Train_ratio):,:]"
      ],
      "metadata": {
        "id": "9SiqpQwE6XOB"
      },
      "execution_count": 18,
      "outputs": []
    },
    {
      "cell_type": "code",
      "source": [
        "# Normalizing\n",
        "minmax = MinMaxScaler()\n",
        "\n",
        "train_x = minmax.fit_transform(train_x)\n",
        "train_y = minmax.fit_transform(train_y)\n",
        "test_x = minmax.fit_transform(test_x)\n",
        "test_y = minmax.fit_transform(test_y)\n",
        "\n",
        "# Check Data pre-processing\n",
        "print(\"Training shape : \", train_x.shape, train_y.shape)\n",
        "print(\"Test shape : \",test_x.shape, test_y.shape)"
      ],
      "metadata": {
        "colab": {
          "base_uri": "https://localhost:8080/"
        },
        "id": "5n4tO8e66a-L",
        "outputId": "d248a70d-bbfa-4fbf-e34f-87db8c12cb14"
      },
      "execution_count": 19,
      "outputs": [
        {
          "output_type": "stream",
          "name": "stdout",
          "text": [
            "Training shape :  (79, 21) (79, 1)\n",
            "Test shape :  (34, 21) (34, 1)\n"
          ]
        }
      ]
    },
    {
      "cell_type": "code",
      "source": [
        "train_x_tensor = Variable(torch.Tensor(train_x))\n",
        "train_y_tensor = Variable(torch.Tensor(train_y))\n",
        "test_x_tensor = Variable(torch.Tensor(test_x))\n",
        "test_y_tensor = Variable(torch.Tensor(test_y))\n",
        "\n",
        "print(\"After torch variable shape_Train : \",train_x_tensor.shape, train_y.shape)\n",
        "print(\"After torch Variable shape_Test : \",test_x_tensor.shape, test_y_tensor.shape)"
      ],
      "metadata": {
        "colab": {
          "base_uri": "https://localhost:8080/"
        },
        "id": "q2K1OF-e6dDA",
        "outputId": "4c0bfe9a-68a9-4b1d-f9c7-15f3922ad6f5"
      },
      "execution_count": 20,
      "outputs": [
        {
          "output_type": "stream",
          "name": "stdout",
          "text": [
            "After torch variable shape_Train :  torch.Size([79, 21]) (79, 1)\n",
            "After torch Variable shape_Test :  torch.Size([34, 21]) torch.Size([34, 1])\n"
          ]
        }
      ]
    },
    {
      "cell_type": "code",
      "source": [
        "train_x_tensor_final = torch.reshape(train_x_tensor, (train_x_tensor.shape[0], 1, train_x_tensor.shape[1]))\n",
        "train_y_tensor_final = torch.reshape(train_y_tensor, (train_y_tensor.shape[0], 1, train_y_tensor.shape[1]))\n",
        "test_x_tensor_final = torch.reshape(test_x_tensor, (test_x_tensor.shape[0], 1, test_x_tensor.shape[1]))\n",
        "test_y_tensor_final = torch.reshape(test_y_tensor,(test_y_tensor.shape[0], 1, test_y_tensor.shape[1]) )\n",
        "\n",
        "print(train_x_tensor_final.shape, test_x_tensor_final.shape)"
      ],
      "metadata": {
        "colab": {
          "base_uri": "https://localhost:8080/"
        },
        "id": "FA2W1wU-6hEx",
        "outputId": "5cb58c06-e348-403b-9364-d0613150cadb"
      },
      "execution_count": 21,
      "outputs": [
        {
          "output_type": "stream",
          "name": "stdout",
          "text": [
            "torch.Size([79, 1, 21]) torch.Size([34, 1, 21])\n"
          ]
        }
      ]
    },
    {
      "cell_type": "code",
      "source": [
        "# GPU setting\n",
        "device = torch.device(\"cuda:0\" if torch.cuda.is_available() else \"cpu\")\n",
        "\n",
        "print(torch.cuda.get_device_name(0)) #Google colab = TESLA T4"
      ],
      "metadata": {
        "colab": {
          "base_uri": "https://localhost:8080/"
        },
        "id": "wXjpdKev6isj",
        "outputId": "b892e78f-f117-484b-c7e1-612e7e57d542"
      },
      "execution_count": 22,
      "outputs": [
        {
          "output_type": "stream",
          "name": "stdout",
          "text": [
            "Tesla T4\n"
          ]
        }
      ]
    },
    {
      "cell_type": "code",
      "source": [
        "# LSTM definition\n",
        "class LSTM_Model(nn.Module):\n",
        "    def __init__(self, input_size, hidden_size, num_layers, output_size):\n",
        "        super(LSTM_Model, self).__init__()\n",
        "        self.lstm = nn.LSTM(input_size, hidden_size, num_layers, batch_first=True)\n",
        "        self.fc = nn.Linear(hidden_size, output_size)\n",
        "\n",
        "    def forward(self, x):\n",
        "        out, _ = self.lstm(x)\n",
        "        out = self.fc(out[:, -1, :])\n",
        "        return out\n",
        "\n",
        "input_size = train_x_tensor_final.shape[2]\n",
        "hidden_size = 128\n",
        "num_layers = 2\n",
        "output_size = 1\n",
        "\n",
        "\n",
        "\n",
        "\n",
        "model = LSTM_Model(input_size, hidden_size, num_layers, output_size)"
      ],
      "metadata": {
        "id": "_8xSJspT6mKH"
      },
      "execution_count": 23,
      "outputs": []
    },
    {
      "cell_type": "code",
      "source": [
        "# LSTM training\n",
        "num_epochs = 100\n",
        "learning_rate = 0.001\n",
        "\n",
        "criterion = nn.MSELoss()\n",
        "optimizer = torch.optim.Adam(model.parameters(), lr=learning_rate)\n",
        "\n",
        "for epoch in range(num_epochs):\n",
        "    model.train()\n",
        "    outputs = model(train_x_tensor_final)\n",
        "    optimizer.zero_grad()\n",
        "    loss = criterion(outputs, train_y_tensor_final)\n",
        "    loss.backward()\n",
        "    optimizer.step()\n",
        "\n",
        "    if epoch % 10 == 0:\n",
        "        print(f\"Epoch [{epoch+1}/{num_epochs}], Loss: {loss.item():.4f}\")"
      ],
      "metadata": {
        "colab": {
          "base_uri": "https://localhost:8080/"
        },
        "id": "Zb9k5mSE6p72",
        "outputId": "4ddd5488-f19b-4576-bb7f-bf6ce1fbf19f"
      },
      "execution_count": 24,
      "outputs": [
        {
          "output_type": "stream",
          "name": "stdout",
          "text": [
            "Epoch [1/100], Loss: 0.3042\n",
            "Epoch [11/100], Loss: 0.1668\n",
            "Epoch [21/100], Loss: 0.0480\n"
          ]
        },
        {
          "output_type": "stream",
          "name": "stderr",
          "text": [
            "/usr/local/lib/python3.10/dist-packages/torch/nn/modules/loss.py:536: UserWarning: Using a target size (torch.Size([79, 1, 1])) that is different to the input size (torch.Size([79, 1])). This will likely lead to incorrect results due to broadcasting. Please ensure they have the same size.\n",
            "  return F.mse_loss(input, target, reduction=self.reduction)\n"
          ]
        },
        {
          "output_type": "stream",
          "name": "stdout",
          "text": [
            "Epoch [31/100], Loss: 0.0509\n",
            "Epoch [41/100], Loss: 0.0503\n",
            "Epoch [51/100], Loss: 0.0460\n",
            "Epoch [61/100], Loss: 0.0460\n",
            "Epoch [71/100], Loss: 0.0456\n",
            "Epoch [81/100], Loss: 0.0453\n",
            "Epoch [91/100], Loss: 0.0451\n"
          ]
        }
      ]
    },
    {
      "cell_type": "code",
      "source": [
        "# LSTM evaluation\n",
        "model.eval()\n",
        "with torch.no_grad():\n",
        "    test_outputs = model(test_x_tensor_final)\n",
        "    test_loss = criterion(test_outputs, test_y_tensor_final)\n",
        "    print(f\"Test Loss: {test_loss.item():.4f}\")"
      ],
      "metadata": {
        "colab": {
          "base_uri": "https://localhost:8080/"
        },
        "id": "VTA-slsu6vBb",
        "outputId": "725fb68e-74d9-41ee-a671-03df8b7188af"
      },
      "execution_count": 25,
      "outputs": [
        {
          "output_type": "stream",
          "name": "stdout",
          "text": [
            "Test Loss: 0.0897\n"
          ]
        },
        {
          "output_type": "stream",
          "name": "stderr",
          "text": [
            "/usr/local/lib/python3.10/dist-packages/torch/nn/modules/loss.py:536: UserWarning: Using a target size (torch.Size([34, 1, 1])) that is different to the input size (torch.Size([34, 1])). This will likely lead to incorrect results due to broadcasting. Please ensure they have the same size.\n",
            "  return F.mse_loss(input, target, reduction=self.reduction)\n"
          ]
        }
      ]
    },
    {
      "cell_type": "code",
      "source": [
        "# RMSE 계산\n",
        "with torch.no_grad():\n",
        "    train_outputs = model(train_x_tensor_final)\n",
        "    train_mse = criterion(train_outputs, train_y_tensor_final)\n",
        "    rmse = torch.sqrt(train_mse).item()\n",
        "    print(f\"Train RMSE: {rmse:.4f}\")\n",
        "\n",
        "    test_outputs = model(test_x_tensor_final)\n",
        "    test_mse = criterion(test_outputs, test_y_tensor_final)\n",
        "    rmse = torch.sqrt(test_mse).item()\n",
        "    print(f\"Test RMSE: {rmse:.4f}\")"
      ],
      "metadata": {
        "colab": {
          "base_uri": "https://localhost:8080/"
        },
        "id": "0hwCuJrG6zdi",
        "outputId": "a39b21c5-5521-4687-be6d-b8a920a86c83"
      },
      "execution_count": 26,
      "outputs": [
        {
          "output_type": "stream",
          "name": "stdout",
          "text": [
            "Train RMSE: 0.2121\n",
            "Test RMSE: 0.2995\n"
          ]
        }
      ]
    },
    {
      "cell_type": "code",
      "source": [
        "# R-squared 계산\n",
        "with torch.no_grad():\n",
        "    train_outputs = model(train_x_tensor_final)\n",
        "    test_outputs = model(test_x_tensor_final)\n",
        "\n",
        "    # Train R-squared 계산\n",
        "    train_residuals = train_y_tensor_final - train_outputs\n",
        "    total_sum_of_squares = torch.sum((train_y_tensor_final - torch.mean(train_y_tensor_final))**2)\n",
        "    residual_sum_of_squares = torch.sum(train_residuals**2)\n",
        "    train_r_squared = 1 - (residual_sum_of_squares / total_sum_of_squares)\n",
        "    print(f\"Train R-squared (R²): {train_r_squared.item():.4f}\")\n",
        "\n",
        "    # Test R-squared 계산\n",
        "    test_residuals = test_y_tensor_final - test_outputs\n",
        "    total_sum_of_squares = torch.sum((test_y_tensor_final - torch.mean(test_y_tensor_final))**2)\n",
        "    residual_sum_of_squares = torch.sum(test_residuals**2)\n",
        "    test_r_squared = 1 - (residual_sum_of_squares / total_sum_of_squares)\n",
        "    print(f\"Test R-squared (R²): {test_r_squared.item():.4f}\")"
      ],
      "metadata": {
        "colab": {
          "base_uri": "https://localhost:8080/"
        },
        "id": "IAaaOx4J631f",
        "outputId": "5daa59b4-0537-4b8c-81cd-3a58cbd79055"
      },
      "execution_count": 27,
      "outputs": [
        {
          "output_type": "stream",
          "name": "stdout",
          "text": [
            "Train R-squared (R²): -79.8532\n",
            "Test R-squared (R²): -39.1833\n"
          ]
        }
      ]
    },
    {
      "cell_type": "code",
      "source": [],
      "metadata": {
        "id": "C9djxAh66-wl"
      },
      "execution_count": 27,
      "outputs": []
    }
  ]
}